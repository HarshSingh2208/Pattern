{
 "cells": [
  {
   "cell_type": "code",
   "execution_count": 4,
   "id": "99e052d9",
   "metadata": {},
   "outputs": [
    {
     "name": "stdout",
     "output_type": "stream",
     "text": [
      "4\n",
      "   *\n",
      "  ***\n",
      " *****\n",
      "*******\n"
     ]
    }
   ],
   "source": [
    "n = int(input())\n",
    "i = 0\n",
    "while i < n:\n",
    "    space=n-i-1;\n",
    "    j=0\n",
    "    while j<space:\n",
    "        print(\" \",end=\"\")\n",
    "        j=j+1\n",
    "    j=0\n",
    "    limit=(2*i)+1\n",
    "    while j<limit:\n",
    "        print('*',end=\"\")\n",
    "        j=j+1\n",
    "    i=i+1\n",
    "    print()"
   ]
  },
  {
   "cell_type": "code",
   "execution_count": 7,
   "id": "6715d369",
   "metadata": {},
   "outputs": [
    {
     "name": "stdout",
     "output_type": "stream",
     "text": [
      "5\n",
      "    1\n",
      "   232\n",
      "  34543\n",
      " 4567654\n",
      "567898765\n"
     ]
    }
   ],
   "source": [
    "n = int(input())\n",
    "i = 0\n",
    "while i < n:\n",
    "    space=n-i-1;\n",
    "    j=0\n",
    "    while j<space:\n",
    "        print(\" \",end=\"\")\n",
    "        j=j+1\n",
    "    j=0\n",
    "    start=i+1\n",
    "    limit=n-space\n",
    "    while j<limit:\n",
    "        print(start,end=\"\")\n",
    "        start=start+1\n",
    "        j=j+1\n",
    "    limit2=limit-1\n",
    "    start=start-2\n",
    "    j=0\n",
    "    while j<limit2:\n",
    "        print(start,end=\"\")\n",
    "        start=start-1\n",
    "        j=j+1\n",
    "    i=i+1\n",
    "    print()"
   ]
  },
  {
   "cell_type": "code",
   "execution_count": 16,
   "id": "5686d2d1",
   "metadata": {},
   "outputs": [
    {
     "name": "stdout",
     "output_type": "stream",
     "text": [
      "7\n",
      "1            1\n",
      "12          21\n",
      "123        321\n",
      "1234      4321\n",
      "12345    54321\n",
      "123456  654321\n",
      "12345677654321\n"
     ]
    }
   ],
   "source": [
    "n = int(input())\n",
    "i = 1\n",
    "while i <=n:\n",
    "    \n",
    "    start=1\n",
    "    j=1\n",
    "    while j<=i:\n",
    "        print(start,end=\"\")\n",
    "        j=j+1\n",
    "        start=start+1\n",
    "    \n",
    "    \n",
    "    space=(n-i)*2;\n",
    "    j=1\n",
    "    while j<=space:\n",
    "        print(\" \",end=\"\")\n",
    "        j=j+1\n",
    "    \n",
    "    start=start-1\n",
    "    j=1\n",
    "    while j<=i:\n",
    "        print(start,end=\"\")\n",
    "        j=j+1\n",
    "        start=start-1\n",
    "        \n",
    "        \n",
    "    i=i+1\n",
    "    print()"
   ]
  },
  {
   "cell_type": "code",
   "execution_count": 4,
   "id": "232dad54",
   "metadata": {},
   "outputs": [
    {
     "name": "stdout",
     "output_type": "stream",
     "text": [
      "5\n",
      "    1\n",
      "   212\n",
      "  32123\n",
      " 4321234\n",
      "543212345\n"
     ]
    }
   ],
   "source": [
    "n = int(input())\n",
    "i = 0\n",
    "while i < n:\n",
    "    space=n-i-1;\n",
    "    j=0\n",
    "    while j<space:\n",
    "        print(\" \",end=\"\")\n",
    "        j=j+1\n",
    "    j=0\n",
    "    start=i+1\n",
    "    limit=n-space\n",
    "    while j<limit:\n",
    "        print(start,end=\"\")\n",
    "        start=start-1\n",
    "        j=j+1\n",
    "    limit2=limit-1\n",
    "    start=2\n",
    "    j=0\n",
    "    while j<limit2:\n",
    "        print(start,end=\"\")\n",
    "        start=start+1\n",
    "        j=j+1\n",
    "    i=i+1\n",
    "    print()"
   ]
  },
  {
   "cell_type": "raw",
   "id": "7280fd5e",
   "metadata": {},
   "source": [
    "Print the following pattern\n",
    "Pattern for N = 4\n",
    "*000*000*\n",
    "0*00*00*0\n",
    "00*0*0*00\n",
    "000***000"
   ]
  },
  {
   "cell_type": "code",
   "execution_count": 6,
   "id": "d6ad7be8",
   "metadata": {},
   "outputs": [
    {
     "name": "stdout",
     "output_type": "stream",
     "text": [
      "4\n",
      "*000*000*\n",
      "0*00*00*0\n",
      "00*0*0*00\n",
      "000***000\n"
     ]
    }
   ],
   "source": [
    "n = int(input())\n",
    "i = 1\n",
    "while i <= n:\n",
    "    j=1\n",
    "    while j<=(2*n)+1:\n",
    "        if i==j or j==n+1 or i+j==(2*n)+2:\n",
    "            print('*',end=\"\")\n",
    "        else:\n",
    "            print('0',end=\"\")\n",
    "        j=j+1\n",
    "    i=i+1\n",
    "    print()"
   ]
  },
  {
   "cell_type": "raw",
   "id": "ae6e4b96",
   "metadata": {},
   "source": [
    "Print the following pattern for the given number of rows.\n",
    "Note: N is always odd.\n",
    "Pattern for N = 5\n",
    "    ..*\n",
    "    .***\n",
    "    *****\n",
    "    .***\n",
    "    ..*\n",
    "The dots represent spaces."
   ]
  },
  {
   "cell_type": "code",
   "execution_count": 10,
   "id": "e1b6a3c3",
   "metadata": {},
   "outputs": [
    {
     "name": "stdout",
     "output_type": "stream",
     "text": [
      "11\n",
      "     *\n",
      "    ***\n",
      "   *****\n",
      "  *******\n",
      " *********\n",
      "***********\n",
      " *********\n",
      "  *******\n",
      "   *****\n",
      "    ***\n",
      "     *\n"
     ]
    }
   ],
   "source": [
    "num = int(input())\n",
    "i = 0\n",
    "n=(num//2)+1\n",
    "\n",
    "#first half\n",
    "limit2=0\n",
    "while i < n:\n",
    "    space=n-i-1;\n",
    "    j=0\n",
    "    while j<space:\n",
    "        print(\" \",end=\"\")\n",
    "        j=j+1\n",
    "    j=0\n",
    "    limit=(2*i)+1\n",
    "    limit2=limit\n",
    "    while j<limit:\n",
    "        print('*',end=\"\")\n",
    "        j=j+1\n",
    "    i=i+1\n",
    "    print()\n",
    "\n",
    "#second half\n",
    "\n",
    "n1=num-n\n",
    "\n",
    "i=0\n",
    "while i<n1:\n",
    "    space=i+1\n",
    "    k=0\n",
    "    while k<space:\n",
    "        print(\" \",end=\"\")\n",
    "        k=k+1\n",
    "    k=0\n",
    "    limit2=limit2-2\n",
    "    while k<limit2:\n",
    "        print(\"*\",end=\"\")\n",
    "        k=k+1\n",
    "    i=i+1\n",
    "    print()\n",
    "    \n",
    "    \n",
    "    \n",
    "    "
   ]
  },
  {
   "cell_type": "raw",
   "id": "cc920c07",
   "metadata": {},
   "source": [
    "\"\"\"\n",
    "Print the following pattern for the given number of rows.\n",
    "Assume N is always odd.\n",
    "Note : There is space after every star.\n",
    "Pattern for N = 7\n",
    "\n",
    "*\n",
    " * *\n",
    "   * * *\n",
    "     * * * *\n",
    "   * * *\n",
    " * *\n",
    "*\n",
    "\n",
    "\"\"\""
   ]
  },
  {
   "cell_type": "code",
   "execution_count": 16,
   "id": "bbb80111",
   "metadata": {},
   "outputs": [
    {
     "name": "stdout",
     "output_type": "stream",
     "text": [
      "11\n",
      "* \n",
      " * * \n",
      "  * * * \n",
      "   * * * * \n",
      "    * * * * * \n",
      "     * * * * * * \n",
      "    * * * * * \n",
      "   * * * * \n",
      "  * * * \n",
      " * * \n",
      "* \n"
     ]
    }
   ],
   "source": [
    "num = int(input())\n",
    "i = 0\n",
    "n=(num//2)+1\n",
    "\n",
    "#first half\n",
    "limit2=0\n",
    "while i < n:\n",
    "    space=i;\n",
    "    j=0\n",
    "    while j<space:\n",
    "        print(\" \",end=\"\")\n",
    "        j=j+1\n",
    "    j=0\n",
    "    limit=i+1\n",
    "    limit2=limit\n",
    "    while j<limit:\n",
    "        print('*',end=\" \")\n",
    "        j=j+1\n",
    "    i=i+1\n",
    "    print()\n",
    "\n",
    "#second half\n",
    "\n",
    "n1=num-n\n",
    "\n",
    "i=0\n",
    "while i<n1:\n",
    "    space=n1-i-1\n",
    "    k=0\n",
    "    while k<space:\n",
    "        print(\" \",end=\"\")\n",
    "        k=k+1\n",
    "    k=0\n",
    "    limit2=limit2-1\n",
    "    while k<limit2:\n",
    "        print(\"*\",end=\" \")\n",
    "        k=k+1\n",
    "    i=i+1\n",
    "    print()\n",
    "    \n",
    "    \n",
    "    "
   ]
  },
  {
   "cell_type": "code",
   "execution_count": null,
   "id": "583af6cf",
   "metadata": {},
   "outputs": [],
   "source": []
  }
 ],
 "metadata": {
  "kernelspec": {
   "display_name": "Python 3",
   "language": "python",
   "name": "python3"
  },
  "language_info": {
   "codemirror_mode": {
    "name": "ipython",
    "version": 3
   },
   "file_extension": ".py",
   "mimetype": "text/x-python",
   "name": "python",
   "nbconvert_exporter": "python",
   "pygments_lexer": "ipython3",
   "version": "3.7.7"
  }
 },
 "nbformat": 4,
 "nbformat_minor": 5
}
