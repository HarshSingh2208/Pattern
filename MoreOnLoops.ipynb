{
 "cells": [
  {
   "cell_type": "code",
   "execution_count": 4,
   "id": "9230914c",
   "metadata": {},
   "outputs": [
    {
     "name": "stdout",
     "output_type": "stream",
     "text": [
      "5\n",
      "11111\n",
      "0000\n",
      "111\n",
      "00\n",
      "1\n"
     ]
    }
   ],
   "source": [
    "n=int(input())\n",
    "k=n\n",
    "i=0\n",
    "while k>0:\n",
    "    j=0\n",
    "    if(i%2==0):\n",
    "        while j<k:\n",
    "            print('1',end=\"\")\n",
    "            j=j+1\n",
    "    else:\n",
    "        while j<k:\n",
    "            print('0',end=\"\")\n",
    "            j=j+1\n",
    "    k=k-1\n",
    "    i=i+1\n",
    "    print()\n",
    "    \n",
    "        "
   ]
  },
  {
   "cell_type": "code",
   "execution_count": 13,
   "id": "915da4e9",
   "metadata": {},
   "outputs": [
    {
     "name": "stdout",
     "output_type": "stream",
     "text": [
      "4\n",
      "1234\n",
      " 234\n",
      "  34\n",
      "   4\n",
      "  34\n",
      " 234\n",
      "1234\n"
     ]
    }
   ],
   "source": [
    "n=int(input())\n",
    "i=0\n",
    "while i<n:\n",
    "    spaces=i\n",
    "    j=0\n",
    "    while j<spaces:\n",
    "        print(\" \",end=\"\")\n",
    "        j=j+1\n",
    "    \n",
    "    j=0\n",
    "    start=i+1\n",
    "    limit=n-i\n",
    "    while j<limit:\n",
    "        print(start,end=\"\")\n",
    "        j=j+1\n",
    "        start=start+1\n",
    "    \n",
    "    i=i+1\n",
    "    print()\n",
    "\n",
    "n1=n-1\n",
    "i=0\n",
    "while i<n1:\n",
    "    spaces=n1-1-i\n",
    "    j=0\n",
    "    while j<spaces:\n",
    "        print(\" \",end=\"\")\n",
    "        j=j+1\n",
    "    \n",
    "    start1=n1-i\n",
    "    j=0\n",
    "    limit1=i+2\n",
    "    while j<limit1:\n",
    "        print(start1,end=\"\")\n",
    "        j=j+1\n",
    "        start1=start1+1\n",
    "    \n",
    "    i=i+1\n",
    "    print()\n",
    "        \n",
    "        \n",
    "    "
   ]
  },
  {
   "cell_type": "code",
   "execution_count": 17,
   "id": "12910c87",
   "metadata": {},
   "outputs": [
    {
     "name": "stdout",
     "output_type": "stream",
     "text": [
      "6\n",
      "1 2 3 4 5 6 \n",
      "13 14 15 16 17 18 \n",
      "25 26 27 28 29 30 \n",
      "31 32 33 34 35 36 \n",
      "19 20 21 22 23 24 \n",
      "7 8 9 10 11 12 \n"
     ]
    }
   ],
   "source": [
    "n=int(input())\n",
    "startvalue=1\n",
    "for i in range(1,n+1):\n",
    "    for j in range(startvalue,startvalue+n):\n",
    "        print(j,end=\" \")\n",
    "    print()\n",
    "    if i==(n+1)//2:\n",
    "        if n%2!=0:\n",
    "            startvalue=n*(n-2)+1\n",
    "        else:\n",
    "            startvalue=n*(n-1)+1\n",
    "    elif i>((n+1)//2):\n",
    "        startvalue=startvalue -n*2\n",
    "    else:\n",
    "        startvalue=startvalue+n*2"
   ]
  },
  {
   "cell_type": "code",
   "execution_count": null,
   "id": "2ee9e657",
   "metadata": {},
   "outputs": [],
   "source": []
  }
 ],
 "metadata": {
  "kernelspec": {
   "display_name": "Python 3",
   "language": "python",
   "name": "python3"
  },
  "language_info": {
   "codemirror_mode": {
    "name": "ipython",
    "version": 3
   },
   "file_extension": ".py",
   "mimetype": "text/x-python",
   "name": "python",
   "nbconvert_exporter": "python",
   "pygments_lexer": "ipython3",
   "version": "3.7.7"
  }
 },
 "nbformat": 4,
 "nbformat_minor": 5
}
